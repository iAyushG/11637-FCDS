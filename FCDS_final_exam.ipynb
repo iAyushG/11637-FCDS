{
 "cells": [
  {
   "cell_type": "markdown",
   "metadata": {
    "toc": true
   },
   "source": [
    "<h1>Table of Contents<span class=\"tocSkip\"></span></h1>\n",
    "<div class=\"toc\"><ul class=\"toc-item\"><li><span><a href=\"#Dataset-Overview\" data-toc-modified-id=\"Dataset-Overview-1\"><span class=\"toc-item-num\">1&nbsp;&nbsp;</span>Dataset Overview</a></span></li><li><span><a href=\"#Part-A:-Data-Preprocessing\" data-toc-modified-id=\"Part-A:-Data-Preprocessing-2\"><span class=\"toc-item-num\">2&nbsp;&nbsp;</span>Part A: Data Preprocessing</a></span></li><li><span><a href=\"#Part-B:-Exploratory-Data-Analysis\" data-toc-modified-id=\"Part-B:-Exploratory-Data-Analysis-3\"><span class=\"toc-item-num\">3&nbsp;&nbsp;</span>Part B: Exploratory Data Analysis</a></span></li><li><span><a href=\"#Part-C:-Feature-Construction\" data-toc-modified-id=\"Part-C:-Feature-Construction-4\"><span class=\"toc-item-num\">4&nbsp;&nbsp;</span>Part C: Feature Construction</a></span></li><li><span><a href=\"#Part-D:-Model-Training-and-Evaluation\" data-toc-modified-id=\"Part-D:-Model-Training-and-Evaluation-5\"><span class=\"toc-item-num\">5&nbsp;&nbsp;</span>Part D: Model Training and Evaluation</a></span></li><li><span><a href=\"#Part-E:-Model-Deployment\" data-toc-modified-id=\"Part-E:-Model-Deployment-6\"><span class=\"toc-item-num\">6&nbsp;&nbsp;</span>Part E: Model Deployment</a></span><ul class=\"toc-item\"><li><span><a href=\"#Deployment-specification\" data-toc-modified-id=\"Deployment-specification-6.1\"><span class=\"toc-item-num\">6.1&nbsp;&nbsp;</span>Deployment specification</a></span></li></ul></li><li><span><a href=\"#Part-F:-Follow-up-questions\" data-toc-modified-id=\"Part-F:-Follow-up-questions-7\"><span class=\"toc-item-num\">7&nbsp;&nbsp;</span>Part F: Follow-up questions</a></span></li></ul></div>"
   ]
  },
  {
   "cell_type": "markdown",
   "metadata": {
    "colab_type": "text",
    "id": "xR3AiGIdiaES"
   },
   "source": [
    "# Final Exam Project: Amazon Review Rating Prediction\n",
    "\n",
    "In this project, you are provided with a dataset of [Amazon product reviews](https://s3.amazonaws.com/amazon-reviews-pds/readme.html). You will apply what you have learned in this course to analyze the dataset and build a predictive model of review ratings. Your deliverables consist of:\n",
    "\n",
    "1. **scoring_uri.txt**. After training your model, you will deploy it to a public endpoint on Azure, similar to what you did in Project 6 and 7. Your endpoint URI should be included in this file. The autograder will send test data to your endpoint and evaluate the accuracy of your model's predictions. This part is worth 30 points.\n",
    "    * 15 points are awarded when your model is deployed successfully. The autograder will send a request to your deployed URI, then check that the status code is 200 and the response JSON is correctly formatted.\n",
    "    * 15 points are awarded when your deployed model also meets the accuracy requirement. The grader will compare your predicted labels with the ground truth labels to determine the accuracy score.\n",
    "1. **This notebook**. While the autograder will **not** be running your code, there are a number of follow-up questions in Part F that you should answer. **You are encouraged to look at these questions before you start coding.** These are manually graded and worth 40 points.\n",
    "1. **references**. Include your reference sources here.\n",
    "\n",
    "In each of the following sections, we will provide some high-level suggestions. You are free to decide on your implementations, or choose a different direction. You can also import any Python package that you find useful, or reuse any of the code you had written in prior projects (remember to mention any reused code in the `references` file).\n",
    "\n",
    "One point to keep in mind as you begin planning your data processing pipeline is that any processing object that has been fit on the training data (e.g., sklearn's `TfidfVectorizer` or `LogisticRegression`) should later be saved to pickle files and included in the deployment step, so that you can use them to transform or predict the test data. See Section 1 in the [Model deployment primer](https://nbviewer.jupyter.org/url/clouddatascience.blob.core.windows.net/primers/machine-learning-azure-primer/azure_model_deployment_primer.ipynb) on the common pitfalls in loading custom functions or classes in the Azure deployment environment. Note that it is possible to complete every task in this exam without defining any custom function."
   ]
  },
  {
   "cell_type": "markdown",
   "metadata": {
    "colab_type": "text",
    "id": "xR3AiGIdiaES"
   },
   "source": [
    "We start by importing some basic packages. Feel free to remove or add any others as you progress through the tasks."
   ]
  },
  {
   "cell_type": "code",
   "execution_count": 1,
   "metadata": {
    "colab": {},
    "colab_type": "code",
    "id": "axD8tPesiaET"
   },
   "outputs": [],
   "source": [
    "import pickle, re, requests, json, os\n",
    "import numpy as np\n",
    "import pandas as pd\n",
    "import matplotlib.pyplot as plt\n",
    "\n",
    "from scipy.sparse import hstack\n",
    "from scipy.sparse import csr_matrix\n",
    "\n",
    "import nltk\n",
    "from nltk.stem import WordNetLemmatizer\n",
    "from nltk.corpus import wordnet\n",
    "from bs4 import BeautifulSoup\n",
    "import string\n",
    "\n",
    "import seaborn as sns\n",
    "\n",
    "from sklearn.feature_extraction.text import TfidfVectorizer\n",
    "from sklearn.model_selection import train_test_split, StratifiedKFold, cross_val_score, GridSearchCV\n",
    "from sklearn.svm import SVC\n",
    "from sklearn.linear_model import LogisticRegression\n",
    "from sklearn.neighbors import KNeighborsClassifier\n",
    "from sklearn.ensemble import RandomForestClassifier, VotingClassifier\n",
    "from sklearn.metrics import accuracy_score\n",
    "\n",
    "import joblib"
   ]
  },
  {
   "cell_type": "markdown",
   "metadata": {
    "colab_type": "text",
    "id": "E6UZTAsCiaEg"
   },
   "source": [
    "## Dataset Overview\n",
    "Our dataset is included in the tab-delimited file `amazon_reviews.tsv`. Here is a brief description of the dataframe columns:\n",
    "\n",
    "<br>\n",
    "\n",
    "| Column name \t| Description \t|\n",
    "|-\t|-\t|\n",
    "| marketplace \t| 2 letter country code of the marketplace where the review was written. \t|\n",
    "| customer_id \t| Random identifier that can be used to aggregate reviews written by a single author. \t|\n",
    "| review_id \t| The unique ID of the review. \t|\n",
    "| product_id \t| The unique Product ID the review pertains to. In the multilingual dataset the reviews for the same product in different countries can be grouped by the same product_id. \t|\n",
    "| product_parent \t| Random identifier that can be used to aggregate reviews for the same product. \t|\n",
    "| product_title \t| Title of the product. \t|\n",
    "| product_category \t| Broad product category that can be used to group reviews (also used to group the dataset into coherent parts). \t|\n",
    "| helpful_votes \t| Number of helpful votes. \t|\n",
    "| total_votes \t| Number of total votes the review received. \t|\n",
    "| vine \t| Review was written as part of the Vine program. \t|\n",
    "| verified_purchase \t| The review is on a verified purchase. \t|\n",
    "| review_headline \t| The title of the review. \t|\n",
    "| review_body \t| The review text. \t|\n",
    "| review_date \t| The date the review was written. \t|\n",
    "| **star_rating** \t| The 1-5 star rating of the review. \t|\n",
    "\n",
    "<br>\n",
    "\n",
    "The column which we will need to predict is `star_rating`, which contains integer values from 1 to 5 (inclusive). While the nature of this problem is ordinal regression, for simplicity in this project, we will only treat it as a multi-class classification problem. In other words, we assume each review is associated with one label (1, 2, 3, 4 or 5), and attempt to predict a review's label based on its content and metadata.\n",
    "\n",
    "We provide the starting code to read the data for you. Note that there are some malformed rows in the original tsv file, so we set `error_bad_lines` to `False`."
   ]
  },
  {
   "cell_type": "code",
   "execution_count": 2,
   "metadata": {},
   "outputs": [],
   "source": [
    "def read_data():\n",
    "    return pd.read_csv(\"amazon_reviews.tsv\", sep=\"\\t\", header=0, on_bad_lines='skip', dtype={\n",
    "        \"marketplace\": str,\n",
    "        \"customer_id\":str,\n",
    "        \"review_id\":str,\n",
    "        \"product_id\":str,\n",
    "        \"product_parent\":str,\n",
    "        \"product_title\":str,\n",
    "        \"product_category\":str,\n",
    "        \"star_rating\":int,\n",
    "        \"helpful_votes\":int,\n",
    "        \"total_votes\":int,\n",
    "        \"vine\":str,\n",
    "        \"verified_purchase\":str,\n",
    "        \"review_headline\":str,\n",
    "        \"review_body\":str,\n",
    "        \"review_date\":str\n",
    "    })\n",
    "\n",
    "df_reviews = read_data()"
   ]
  },
  {
   "cell_type": "markdown",
   "metadata": {
    "colab_type": "text",
    "id": "fAwc7CV8iaFn"
   },
   "source": [
    "## Part A: Data Preprocessing\n",
    "Since this project only involves review rating prediction, you can remove the following irrelevant features:\n",
    "\n",
    "* `marketplace`\n",
    "* `customer_id`\n",
    "* `review_id` \n",
    "* `product_id`\n",
    "* `product_parent`\n",
    "* `product_category`(since all the products belong to the same category)\n",
    "* `review_date`\n",
    "\n",
    "The primary rating predictor will be the review content (i.e., `review_body`). We suggest you perform the following preprocessing tasks from **Project 4** on `review_body`.\n",
    "* Remove all html tags.\n",
    "* Clean punctuations and special characters.\n",
    "* Apply lower casing.\n",
    "* Tokenize the content, then apply stemming or lemmatization to each token.\n",
    "* Remove English stopwords."
   ]
  },
  {
   "cell_type": "code",
   "execution_count": 3,
   "metadata": {},
   "outputs": [],
   "source": [
    "## YOUR DATA PREPROCESSING CODE HERE ##"
   ]
  },
  {
   "cell_type": "code",
   "execution_count": 4,
   "metadata": {},
   "outputs": [
    {
     "data": {
      "text/plain": [
       "True"
      ]
     },
     "execution_count": 4,
     "metadata": {},
     "output_type": "execute_result"
    }
   ],
   "source": [
    "nltk.download(\"stopwords\", quiet=True)\n",
    "nltk.download(\"wordnet\", quiet=True)\n",
    "nltk.download(\"punkt\", quiet=True)\n",
    "nltk.download('averaged_perceptron_tagger', quiet=True)"
   ]
  },
  {
   "cell_type": "code",
   "execution_count": 5,
   "metadata": {},
   "outputs": [],
   "source": [
    "lemmatizer = WordNetLemmatizer()\n",
    "english_stopwords = set(nltk.corpus.stopwords.words('english'))"
   ]
  },
  {
   "cell_type": "code",
   "execution_count": 6,
   "metadata": {},
   "outputs": [],
   "source": [
    "df_reviews.drop(['marketplace', 'customer_id', 'review_id', 'product_id', 'product_parent', 'product_category', 'review_date'], axis=1, inplace=True)"
   ]
  },
  {
   "cell_type": "code",
   "execution_count": 7,
   "metadata": {},
   "outputs": [],
   "source": [
    "def clean_text(text):\n",
    "    if pd.isna(text):\n",
    "        return \"\"\n",
    "    text = BeautifulSoup(text, \"html.parser\").get_text()\n",
    "    text = text.lower()\n",
    "    text = re.sub(r\"'s\\b\", \"\", text)\n",
    "    text = re.sub(\"[^a-zA-Z]\", \" \", text)\n",
    "    text = re.sub(r\"'s(\\s|$)\", r\"\\1\", text)\n",
    "    text = text.replace(\"'\", \"\")\n",
    "    text = text.strip()\n",
    "    return text\n",
    "\n",
    "def tokenize(text):\n",
    "    data = nltk.word_tokenize(text)\n",
    "    valid = set(string.ascii_letters + string.digits)\n",
    "    tokens = []\n",
    "    for token in data:\n",
    "        subtoken = ''\n",
    "        subtokens = []\n",
    "        for char in token:\n",
    "            if char in valid:\n",
    "                subtoken += char\n",
    "            else:\n",
    "                if subtoken:\n",
    "                    subtokens.append(subtoken)\n",
    "                    subtoken = ''\n",
    "        if subtoken:\n",
    "            subtokens.append(subtoken)\n",
    "        tokens.extend(subtokens)\n",
    "    return tokens\n",
    "\n",
    "def get_wordnet_pos(treebank_tag):\n",
    "    if treebank_tag.startswith('J'):\n",
    "        return wordnet.ADJ\n",
    "    elif treebank_tag.startswith('V'):\n",
    "        return wordnet.VERB\n",
    "    elif treebank_tag.startswith('R'):\n",
    "        return wordnet.ADV\n",
    "    else:\n",
    "        return wordnet.NOUN\n",
    "\n",
    "def lemmatize(tokens):\n",
    "    tagged_tokens = nltk.pos_tag(tokens)\n",
    "    lemmatized_tokens = []\n",
    "    for word, tag in tagged_tokens:\n",
    "        wntag = get_wordnet_pos(tag)\n",
    "        lemmatized_token = lemmatizer.lemmatize(word, pos=wntag)\n",
    "        if lemmatized_token not in english_stopwords and len(lemmatized_token) > 1:\n",
    "            lemmatized_tokens.append(lemmatized_token)\n",
    "    return lemmatized_tokens\n",
    "\n",
    "def preprocess_text(text):\n",
    "    if pd.isna(text):\n",
    "        return \"\"\n",
    "    cleaned_text = clean_text(text)\n",
    "    tokens = tokenize(cleaned_text)\n",
    "    lemmatized_tokens = lemmatize(tokens)\n",
    "    return ' '.join(lemmatized_tokens)"
   ]
  },
  {
   "cell_type": "code",
   "execution_count": 8,
   "metadata": {},
   "outputs": [
    {
     "name": "stderr",
     "output_type": "stream",
     "text": [
      "/anaconda/envs/azureml_py38/lib/python3.8/site-packages/bs4/__init__.py:337: MarkupResemblesLocatorWarning: \".\" looks like a directory name, not markup. You may want to open a file found in this directory and pass the filehandle into Beautiful Soup.\n",
      "  warnings.warn(\n"
     ]
    }
   ],
   "source": [
    "df_reviews['processed_review'] = df_reviews['review_body'].apply(preprocess_text)"
   ]
  },
  {
   "cell_type": "code",
   "execution_count": 9,
   "metadata": {},
   "outputs": [
    {
     "data": {
      "text/html": [
       "<div>\n",
       "<style scoped>\n",
       "    .dataframe tbody tr th:only-of-type {\n",
       "        vertical-align: middle;\n",
       "    }\n",
       "\n",
       "    .dataframe tbody tr th {\n",
       "        vertical-align: top;\n",
       "    }\n",
       "\n",
       "    .dataframe thead th {\n",
       "        text-align: right;\n",
       "    }\n",
       "</style>\n",
       "<table border=\"1\" class=\"dataframe\">\n",
       "  <thead>\n",
       "    <tr style=\"text-align: right;\">\n",
       "      <th></th>\n",
       "      <th>review_body</th>\n",
       "      <th>processed_review</th>\n",
       "    </tr>\n",
       "  </thead>\n",
       "  <tbody>\n",
       "    <tr>\n",
       "      <th>0</th>\n",
       "      <td>I bought this as a gift for my son and he real...</td>\n",
       "      <td>buy gift son really like pair well iphone ipad...</td>\n",
       "    </tr>\n",
       "    <tr>\n",
       "      <th>1</th>\n",
       "      <td>I like this case as it is secure and I can han...</td>\n",
       "      <td>like case secure hang ipod neck exercise walk ...</td>\n",
       "    </tr>\n",
       "    <tr>\n",
       "      <th>2</th>\n",
       "      <td>It showed up on time but the remote did not pr...</td>\n",
       "      <td>show time remote properly work function tv nee...</td>\n",
       "    </tr>\n",
       "    <tr>\n",
       "      <th>3</th>\n",
       "      <td>Excellent product excellent customer service. ...</td>\n",
       "      <td>excellent product excellent customer service f...</td>\n",
       "    </tr>\n",
       "    <tr>\n",
       "      <th>4</th>\n",
       "      <td>Great bundle,everything works,very satisfied w...</td>\n",
       "      <td>great bundle everything work satisfied purchas...</td>\n",
       "    </tr>\n",
       "  </tbody>\n",
       "</table>\n",
       "</div>"
      ],
      "text/plain": [
       "                                         review_body  \\\n",
       "0  I bought this as a gift for my son and he real...   \n",
       "1  I like this case as it is secure and I can han...   \n",
       "2  It showed up on time but the remote did not pr...   \n",
       "3  Excellent product excellent customer service. ...   \n",
       "4  Great bundle,everything works,very satisfied w...   \n",
       "\n",
       "                                    processed_review  \n",
       "0  buy gift son really like pair well iphone ipad...  \n",
       "1  like case secure hang ipod neck exercise walk ...  \n",
       "2  show time remote properly work function tv nee...  \n",
       "3  excellent product excellent customer service f...  \n",
       "4  great bundle everything work satisfied purchas...  "
      ]
     },
     "execution_count": 9,
     "metadata": {},
     "output_type": "execute_result"
    }
   ],
   "source": [
    "df_reviews[['review_body', 'processed_review']].head()"
   ]
  },
  {
   "cell_type": "markdown",
   "metadata": {},
   "source": [
    "## Part B: Exploratory Data Analysis\n",
    "You should investigate the feature and label distributions in your exploratory data analysis. A good starting point is the techniques and tools from **Project 3**, in particular the Pandas Profiler library. Pay attention to rows with missing data or outliers, and think about whether to include or remove them. In case the rating distribution is highly imbalanced, you may also consider oversampling the minority classes (i.e., making random copies of the rows with the minority classes) to get a more balanced sample. However, oversampling should only be performed in part D on the training data only, after you have performed a train-test split."
   ]
  },
  {
   "cell_type": "code",
   "execution_count": 10,
   "metadata": {},
   "outputs": [],
   "source": [
    "## YOUR EXPLORATORY DATA ANALYSIS CODE HERE ##"
   ]
  },
  {
   "cell_type": "code",
   "execution_count": 11,
   "metadata": {},
   "outputs": [
    {
     "data": {
      "text/html": [
       "<div>\n",
       "<style scoped>\n",
       "    .dataframe tbody tr th:only-of-type {\n",
       "        vertical-align: middle;\n",
       "    }\n",
       "\n",
       "    .dataframe tbody tr th {\n",
       "        vertical-align: top;\n",
       "    }\n",
       "\n",
       "    .dataframe thead th {\n",
       "        text-align: right;\n",
       "    }\n",
       "</style>\n",
       "<table border=\"1\" class=\"dataframe\">\n",
       "  <thead>\n",
       "    <tr style=\"text-align: right;\">\n",
       "      <th></th>\n",
       "      <th>product_title</th>\n",
       "      <th>star_rating</th>\n",
       "      <th>helpful_votes</th>\n",
       "      <th>total_votes</th>\n",
       "      <th>vine</th>\n",
       "      <th>verified_purchase</th>\n",
       "      <th>review_headline</th>\n",
       "      <th>review_body</th>\n",
       "      <th>processed_review</th>\n",
       "    </tr>\n",
       "  </thead>\n",
       "  <tbody>\n",
       "    <tr>\n",
       "      <th>0</th>\n",
       "      <td>Jawbone Jambox Wireless Bluetooth Speaker - Bl...</td>\n",
       "      <td>5</td>\n",
       "      <td>0</td>\n",
       "      <td>0</td>\n",
       "      <td>N</td>\n",
       "      <td>Y</td>\n",
       "      <td>Good thing in a small package</td>\n",
       "      <td>I bought this as a gift for my son and he real...</td>\n",
       "      <td>buy gift son really like pair well iphone ipad...</td>\n",
       "    </tr>\n",
       "    <tr>\n",
       "      <th>1</th>\n",
       "      <td>Green Silicone skin sport nano case for Apple ...</td>\n",
       "      <td>3</td>\n",
       "      <td>6</td>\n",
       "      <td>6</td>\n",
       "      <td>N</td>\n",
       "      <td>N</td>\n",
       "      <td>Good enough</td>\n",
       "      <td>I like this case as it is secure and I can han...</td>\n",
       "      <td>like case secure hang ipod neck exercise walk ...</td>\n",
       "    </tr>\n",
       "    <tr>\n",
       "      <th>2</th>\n",
       "      <td>original brand new proscan TV remote control F...</td>\n",
       "      <td>1</td>\n",
       "      <td>0</td>\n",
       "      <td>0</td>\n",
       "      <td>N</td>\n",
       "      <td>Y</td>\n",
       "      <td>... it to even though it was advertised to wor...</td>\n",
       "      <td>It showed up on time but the remote did not pr...</td>\n",
       "      <td>show time remote properly work function tv nee...</td>\n",
       "    </tr>\n",
       "    <tr>\n",
       "      <th>3</th>\n",
       "      <td>Bluetooth Headphones - Fit Acoustics Wireless ...</td>\n",
       "      <td>5</td>\n",
       "      <td>1</td>\n",
       "      <td>1</td>\n",
       "      <td>N</td>\n",
       "      <td>Y</td>\n",
       "      <td>Excellent product excellent customer service</td>\n",
       "      <td>Excellent product excellent customer service. ...</td>\n",
       "      <td>excellent product excellent customer service f...</td>\n",
       "    </tr>\n",
       "    <tr>\n",
       "      <th>4</th>\n",
       "      <td>TsirTech 18 Items Luxury Accessory Bundle for ...</td>\n",
       "      <td>5</td>\n",
       "      <td>0</td>\n",
       "      <td>0</td>\n",
       "      <td>N</td>\n",
       "      <td>Y</td>\n",
       "      <td>great bundle, love the texting glove,</td>\n",
       "      <td>Great bundle,everything works,very satisfied w...</td>\n",
       "      <td>great bundle everything work satisfied purchas...</td>\n",
       "    </tr>\n",
       "  </tbody>\n",
       "</table>\n",
       "</div>"
      ],
      "text/plain": [
       "                                       product_title  star_rating  \\\n",
       "0  Jawbone Jambox Wireless Bluetooth Speaker - Bl...            5   \n",
       "1  Green Silicone skin sport nano case for Apple ...            3   \n",
       "2  original brand new proscan TV remote control F...            1   \n",
       "3  Bluetooth Headphones - Fit Acoustics Wireless ...            5   \n",
       "4  TsirTech 18 Items Luxury Accessory Bundle for ...            5   \n",
       "\n",
       "   helpful_votes  total_votes vine verified_purchase  \\\n",
       "0              0            0    N                 Y   \n",
       "1              6            6    N                 N   \n",
       "2              0            0    N                 Y   \n",
       "3              1            1    N                 Y   \n",
       "4              0            0    N                 Y   \n",
       "\n",
       "                                     review_headline  \\\n",
       "0                      Good thing in a small package   \n",
       "1                                        Good enough   \n",
       "2  ... it to even though it was advertised to wor...   \n",
       "3       Excellent product excellent customer service   \n",
       "4              great bundle, love the texting glove,   \n",
       "\n",
       "                                         review_body  \\\n",
       "0  I bought this as a gift for my son and he real...   \n",
       "1  I like this case as it is secure and I can han...   \n",
       "2  It showed up on time but the remote did not pr...   \n",
       "3  Excellent product excellent customer service. ...   \n",
       "4  Great bundle,everything works,very satisfied w...   \n",
       "\n",
       "                                    processed_review  \n",
       "0  buy gift son really like pair well iphone ipad...  \n",
       "1  like case secure hang ipod neck exercise walk ...  \n",
       "2  show time remote properly work function tv nee...  \n",
       "3  excellent product excellent customer service f...  \n",
       "4  great bundle everything work satisfied purchas...  "
      ]
     },
     "execution_count": 11,
     "metadata": {},
     "output_type": "execute_result"
    }
   ],
   "source": [
    "df_reviews.head()"
   ]
  },
  {
   "cell_type": "code",
   "execution_count": 12,
   "metadata": {},
   "outputs": [
    {
     "name": "stdout",
     "output_type": "stream",
     "text": [
      "<class 'pandas.core.frame.DataFrame'>\n",
      "RangeIndex: 99909 entries, 0 to 99908\n",
      "Data columns (total 9 columns):\n",
      " #   Column             Non-Null Count  Dtype \n",
      "---  ------             --------------  ----- \n",
      " 0   product_title      99909 non-null  object\n",
      " 1   star_rating        99909 non-null  int64 \n",
      " 2   helpful_votes      99909 non-null  int64 \n",
      " 3   total_votes        99909 non-null  int64 \n",
      " 4   vine               99909 non-null  object\n",
      " 5   verified_purchase  99909 non-null  object\n",
      " 6   review_headline    99909 non-null  object\n",
      " 7   review_body        99909 non-null  object\n",
      " 8   processed_review   99909 non-null  object\n",
      "dtypes: int64(3), object(6)\n",
      "memory usage: 6.9+ MB\n"
     ]
    }
   ],
   "source": [
    "df_reviews.info()"
   ]
  },
  {
   "cell_type": "code",
   "execution_count": 13,
   "metadata": {},
   "outputs": [
    {
     "data": {
      "text/html": [
       "<div>\n",
       "<style scoped>\n",
       "    .dataframe tbody tr th:only-of-type {\n",
       "        vertical-align: middle;\n",
       "    }\n",
       "\n",
       "    .dataframe tbody tr th {\n",
       "        vertical-align: top;\n",
       "    }\n",
       "\n",
       "    .dataframe thead th {\n",
       "        text-align: right;\n",
       "    }\n",
       "</style>\n",
       "<table border=\"1\" class=\"dataframe\">\n",
       "  <thead>\n",
       "    <tr style=\"text-align: right;\">\n",
       "      <th></th>\n",
       "      <th>star_rating</th>\n",
       "      <th>helpful_votes</th>\n",
       "      <th>total_votes</th>\n",
       "    </tr>\n",
       "  </thead>\n",
       "  <tbody>\n",
       "    <tr>\n",
       "      <th>count</th>\n",
       "      <td>99909.000000</td>\n",
       "      <td>99909.000000</td>\n",
       "      <td>99909.000000</td>\n",
       "    </tr>\n",
       "    <tr>\n",
       "      <th>mean</th>\n",
       "      <td>3.898818</td>\n",
       "      <td>1.496962</td>\n",
       "      <td>1.934190</td>\n",
       "    </tr>\n",
       "    <tr>\n",
       "      <th>std</th>\n",
       "      <td>1.462946</td>\n",
       "      <td>10.741559</td>\n",
       "      <td>11.758621</td>\n",
       "    </tr>\n",
       "    <tr>\n",
       "      <th>min</th>\n",
       "      <td>1.000000</td>\n",
       "      <td>0.000000</td>\n",
       "      <td>0.000000</td>\n",
       "    </tr>\n",
       "    <tr>\n",
       "      <th>25%</th>\n",
       "      <td>3.000000</td>\n",
       "      <td>0.000000</td>\n",
       "      <td>0.000000</td>\n",
       "    </tr>\n",
       "    <tr>\n",
       "      <th>50%</th>\n",
       "      <td>5.000000</td>\n",
       "      <td>0.000000</td>\n",
       "      <td>0.000000</td>\n",
       "    </tr>\n",
       "    <tr>\n",
       "      <th>75%</th>\n",
       "      <td>5.000000</td>\n",
       "      <td>1.000000</td>\n",
       "      <td>1.000000</td>\n",
       "    </tr>\n",
       "    <tr>\n",
       "      <th>max</th>\n",
       "      <td>5.000000</td>\n",
       "      <td>1219.000000</td>\n",
       "      <td>1234.000000</td>\n",
       "    </tr>\n",
       "  </tbody>\n",
       "</table>\n",
       "</div>"
      ],
      "text/plain": [
       "        star_rating  helpful_votes   total_votes\n",
       "count  99909.000000   99909.000000  99909.000000\n",
       "mean       3.898818       1.496962      1.934190\n",
       "std        1.462946      10.741559     11.758621\n",
       "min        1.000000       0.000000      0.000000\n",
       "25%        3.000000       0.000000      0.000000\n",
       "50%        5.000000       0.000000      0.000000\n",
       "75%        5.000000       1.000000      1.000000\n",
       "max        5.000000    1219.000000   1234.000000"
      ]
     },
     "execution_count": 13,
     "metadata": {},
     "output_type": "execute_result"
    }
   ],
   "source": [
    "df_reviews.describe()"
   ]
  },
  {
   "cell_type": "code",
   "execution_count": 14,
   "metadata": {},
   "outputs": [
    {
     "data": {
      "image/png": "[encoded data removed]",
      "text/plain": [
       "<Figure size 640x480 with 1 Axes>"
      ]
     },
     "metadata": {},
     "output_type": "display_data"
    }
   ],
   "source": [
    "sns.countplot(x='star_rating', data=df_reviews)\n",
    "plt.title('Distribution of Star Ratings')\n",
    "plt.xlabel('Star Rating')\n",
    "plt.ylabel('Frequency')\n",
    "plt.show()"
   ]
  },
  {
   "cell_type": "code",
   "execution_count": 15,
   "metadata": {},
   "outputs": [
    {
     "name": "stdout",
     "output_type": "stream",
     "text": [
      "product_title        0\n",
      "star_rating          0\n",
      "helpful_votes        0\n",
      "total_votes          0\n",
      "vine                 0\n",
      "verified_purchase    0\n",
      "review_headline      0\n",
      "review_body          0\n",
      "processed_review     0\n",
      "dtype: int64\n"
     ]
    }
   ],
   "source": [
    "print(df_reviews.isnull().sum())"
   ]
  },
  {
   "cell_type": "code",
   "execution_count": 16,
   "metadata": {},
   "outputs": [
    {
     "data": {
      "image/png": "[encoded data removed]",
      "text/plain": [
       "<Figure size 1000x600 with 1 Axes>"
      ]
     },
     "metadata": {},
     "output_type": "display_data"
    }
   ],
   "source": [
    "df_reviews['review_length'] = df_reviews['review_body'].apply(len)\n",
    "\n",
    "plt.figure(figsize=(10, 6))\n",
    "sns.histplot(df_reviews['review_length'], bins=50, kde=True)\n",
    "plt.title('Distribution of Review Lengths')\n",
    "plt.xlabel('Review Length')\n",
    "plt.ylabel('Frequency')\n",
    "plt.show()"
   ]
  },
  {
   "cell_type": "code",
   "execution_count": 17,
   "metadata": {},
   "outputs": [
    {
     "data": {
      "image/png": "[encoded data removed]",
      "text/plain": [
       "<Figure size 800x600 with 2 Axes>"
      ]
     },
     "metadata": {},
     "output_type": "display_data"
    }
   ],
   "source": [
    "correlation_matrix = df_reviews[['star_rating', 'helpful_votes', 'total_votes', 'review_length']].corr()\n",
    "\n",
    "plt.figure(figsize=(8, 6))\n",
    "sns.heatmap(correlation_matrix, annot=True, fmt=\".2f\", cmap='coolwarm')\n",
    "plt.title('Correlation Matrix')\n",
    "plt.show()"
   ]
  },
  {
   "cell_type": "code",
   "execution_count": 18,
   "metadata": {},
   "outputs": [
    {
     "data": {
      "text/plain": [
       "(99909, 10)"
      ]
     },
     "execution_count": 18,
     "metadata": {},
     "output_type": "execute_result"
    }
   ],
   "source": [
    "df_reviews.shape"
   ]
  },
  {
   "cell_type": "code",
   "execution_count": 19,
   "metadata": {},
   "outputs": [
    {
     "data": {
      "image/png": "[encoded data removed]",
      "text/plain": [
       "<Figure size 800x600 with 1 Axes>"
      ]
     },
     "metadata": {},
     "output_type": "display_data"
    }
   ],
   "source": [
    "plt.figure(figsize=(8, 6))\n",
    "sns.countplot(x='verified_purchase', data=df_reviews)\n",
    "plt.title('Distribution of Verified Purchase')\n",
    "plt.show()"
   ]
  },
  {
   "cell_type": "code",
   "execution_count": 20,
   "metadata": {},
   "outputs": [
    {
     "data": {
      "image/png": "[encoded data removed]",
      "text/plain": [
       "<Figure size 800x800 with 1 Axes>"
      ]
     },
     "metadata": {},
     "output_type": "display_data"
    }
   ],
   "source": [
    "rating_counts = df_reviews['star_rating'].value_counts()\n",
    "\n",
    "plt.figure(figsize=(8, 8))\n",
    "plt.pie(rating_counts, labels=rating_counts.index, autopct='%1.1f%%', startangle=140, colors=['#66b3ff','#99ff99','#ffcc99','#c2c2f0','#ffb3e6'])\n",
    "plt.title('Distribution of Star Ratings')\n",
    "plt.show()"
   ]
  },
  {
   "cell_type": "markdown",
   "metadata": {
    "colab_type": "text",
    "id": "beCwF1HUiaGL"
   },
   "source": [
    "## Part C: Feature Construction\n",
    "The next task is to construct numerical features for prediction. We recommend starting with frequency-based features, such as TF and TF-IDF from **Project 5**, based on the review text content. To avoid potential memory issues, make sure to select the best data representation for your feature matrix. For example, TF-IDF matrices should be in sparse format, which you worked with in **Project 2**.\n",
    "\n",
    "Once you have finished the model deployment, feel free to revisit this section and experiment with other features (such as those from **Project 7**) to improve your model accuracy. Pay attention to how different data structures can be used to optimize feature construction (e.g., list vs set vs iterator), which you learned in **Project 1**."
   ]
  },
  {
   "cell_type": "code",
   "execution_count": 10,
   "metadata": {},
   "outputs": [],
   "source": [
    "## YOUR FEATURE CONSTRUCTION CODE HERE ##"
   ]
  },
  {
   "cell_type": "code",
   "execution_count": 11,
   "metadata": {},
   "outputs": [],
   "source": [
    "def create_additional_features(df):\n",
    "    df['review_length'] = df['review_body'].apply(len)\n",
    "    df['helpfulness_ratio'] = df['helpful_votes'] / df['total_votes'].replace(0, 1)\n",
    "    df['vine_program'] = (df['vine'] == 'Y').astype(int)\n",
    "    df['verified_purchase'] = (df['verified_purchase'] == 'Y').astype(int)\n",
    "    return df[['review_length', 'helpfulness_ratio', 'vine_program', 'verified_purchase']]\n",
    "\n",
    "additional_features = create_additional_features(df_reviews)"
   ]
  },
  {
   "cell_type": "code",
   "execution_count": 23,
   "metadata": {},
   "outputs": [],
   "source": [
    "X = df_reviews['processed_review'].fillna('')\n",
    "y = df_reviews['star_rating']"
   ]
  },
  {
   "cell_type": "code",
   "execution_count": 26,
   "metadata": {},
   "outputs": [],
   "source": [
    "X_train, X_test, y_train, y_test = train_test_split(X, y, test_size=0.2, random_state=42)\n",
    "train_features, test_features = train_test_split(additional_features, test_size=0.2, random_state=42)"
   ]
  },
  {
   "cell_type": "code",
   "execution_count": 27,
   "metadata": {},
   "outputs": [],
   "source": [
    "def apply_tfidf_vectorization(train_data, test_data):\n",
    "    vectorizer = TfidfVectorizer(max_features=5000, ngram_range=(1, 2))\n",
    "    X_train_tfidf = vectorizer.fit_transform(train_data)\n",
    "    X_test_tfidf = vectorizer.transform(test_data)\n",
    "    feature_names = vectorizer.get_feature_names_out()\n",
    "    return X_train_tfidf, X_test_tfidf, feature_names\n",
    "\n",
    "X_train_tfidf, X_test_tfidf, feature_names = apply_tfidf_vectorization(X_train, X_test)"
   ]
  },
  {
   "cell_type": "code",
   "execution_count": 28,
   "metadata": {},
   "outputs": [],
   "source": [
    "train_features_sparse = csr_matrix(train_features)\n",
    "test_features_sparse = csr_matrix(test_features)\n",
    "\n",
    "X_train_combined = hstack([X_train_tfidf, train_features_sparse])\n",
    "X_test_combined = hstack([X_test_tfidf, test_features_sparse])"
   ]
  },
  {
   "cell_type": "markdown",
   "metadata": {
    "colab_type": "text",
    "id": "RqarYE26atSi"
   },
   "source": [
    "## Part D: Model Training and Evaluation\n",
    "It is now time to train machine learning models to predict review ratings. Your goal in this part is to come up with a model that can achieve an **accuracy score of at least 0.60 on the test data**. Given the ground truth labels `y_true` and your predicted labels `y_pred` (each of which contains integer values from 1 to 5), the grader environment will compute the accuracy score as `sklearn.metrics.accuracy_score(y_true, y_pred)`.\n",
    "\n",
    "\n",
    "As a starting point, you can try out the classical learning algorithms supported by Sklearn:\n",
    "\n",
    "* Logistic regression\n",
    "* Support vector machine\n",
    "* K-nearest neighbor\n",
    "\n",
    "You can also experiment with some ensemble methods based on these classifiers, for example [voting classifier](https://scikit-learn.org/stable/modules/generated/sklearn.ensemble.VotingClassifier.html) or [boosting](https://scikit-learn.org/stable/modules/generated/sklearn.ensemble.GradientBoostingClassifier.html). You can tune the hyperparameters for each learning algorithm, using the cross validation process in **Project 5**, to identify the best fit model.\n",
    "\n",
    "**Notes**:\n",
    "* Similar to **Project 6**, your trained model will be evaluated on a secret test dataset. Its accuracy on this dataset will be shown in the Sail() Feedback view when you make a submission."
   ]
  },
  {
   "cell_type": "code",
   "execution_count": 29,
   "metadata": {},
   "outputs": [],
   "source": [
    "## YOUR MODEL TRAINING CODE HERE ##"
   ]
  },
  {
   "cell_type": "code",
   "execution_count": 30,
   "metadata": {},
   "outputs": [],
   "source": [
    "logistic_model = LogisticRegression(max_iter=7000)\n",
    "svm_model = SVC(random_state=42, max_iter=5000, verbose=1)\n",
    "knn_model = KNeighborsClassifier(n_neighbors=5)\n",
    "rf_model = RandomForestClassifier(n_estimators=420, random_state=42)"
   ]
  },
  {
   "cell_type": "code",
   "execution_count": 31,
   "metadata": {},
   "outputs": [
    {
     "name": "stdout",
     "output_type": "stream",
     "text": [
      "Accuracy of LogisticRegression: 0.6478830947853068\n",
      "Accuracy of KNeighborsClassifier: 0.4671704534080673\n",
      "Accuracy of RandomForestClassifier: 0.6326193574216795\n",
      "[LibSVM]....WARN: libsvm Solver reached max_iter\n",
      "optimization finished, #iter = 5000\n",
      "obj = -9992.810143, rho = -0.377856\n",
      "nSV = 10000, nBSV = 10000\n",
      "....WARN: libsvm Solver reached max_iter\n",
      "optimization finished, #iter = 5000\n",
      "obj = -10000.591093, rho = -0.023702\n",
      "nSV = 10000, nBSV = 10000\n",
      "....WARN: libsvm Solver reached max_iter\n",
      "optimization finished, #iter = 5000\n",
      "obj = -9994.507028, rho = -0.002800\n",
      "nSV = 10000, nBSV = 10000\n",
      "....WARN: libsvm Solver reached max_iter\n",
      "optimization finished, #iter = 5000\n",
      "obj = -9999.133439, rho = -0.000496\n",
      "nSV = 10000, nBSV = 10000\n",
      "....WARN: libsvm Solver reached max_iter\n",
      "optimization finished, #iter = 5000\n",
      "obj = -9395.174215, rho = -0.286973\n",
      "nSV = 10000, nBSV = 10000\n",
      "....WARN: libsvm Solver reached max_iter\n",
      "optimization finished, #iter = 5000\n",
      "obj = -10004.937956, rho = 0.203163\n",
      "nSV = 10000, nBSV = 10000\n",
      "....WARN: libsvm Solver reached max_iter\n",
      "optimization finished, #iter = 5000\n",
      "obj = -10012.173308, rho = 0.151331\n",
      "nSV = 10000, nBSV = 10000\n",
      "....WARN: libsvm Solver reached max_iter\n",
      "optimization finished, #iter = 5000\n",
      "obj = -10027.590140, rho = -0.000807\n",
      "nSV = 10000, nBSV = 10000\n",
      "....WARN: libsvm Solver reached max_iter\n",
      "optimization finished, #iter = 5000\n",
      "obj = -9996.254601, rho = -0.000517\n",
      "nSV = 10000, nBSV = 10000\n",
      "....WARN: libsvm Solver reached max_iter\n",
      "optimization finished, #iter = 5000\n",
      "obj = -9999.249658, rho = -0.000533\n",
      "nSV = 10000, nBSV = 10000\n",
      "Total nSV = 46828\n"
     ]
    },
    {
     "name": "stderr",
     "output_type": "stream",
     "text": [
      "/anaconda/envs/azureml_py38/lib/python3.8/site-packages/sklearn/svm/_base.py:297: ConvergenceWarning: Solver terminated early (max_iter=5000).  Consider pre-processing your data with StandardScaler or MinMaxScaler.\n",
      "  warnings.warn(\n"
     ]
    },
    {
     "name": "stdout",
     "output_type": "stream",
     "text": [
      "Accuracy of SVC: 0.48378540686617955\n"
     ]
    }
   ],
   "source": [
    "models = [logistic_model, knn_model, rf_model, svm_model]\n",
    "\n",
    "for model in models:\n",
    "    model.fit(X_train_combined, y_train)\n",
    "    y_pred = model.predict(X_test_combined)\n",
    "    accuracy = accuracy_score(y_test, y_pred)\n",
    "    print(f'Accuracy of {model.__class__.__name__}: {accuracy}')"
   ]
  },
  {
   "cell_type": "code",
   "execution_count": null,
   "metadata": {
    "scrolled": true
   },
   "outputs": [],
   "source": [
    "def cross_validate_model(model, X, y, folds=5):\n",
    "    scores = cross_val_score(model, X, y, cv=folds, scoring='accuracy')\n",
    "    return np.mean(scores)"
   ]
  },
  {
   "cell_type": "code",
   "execution_count": null,
   "metadata": {},
   "outputs": [],
   "source": [
    "X_combined = vstack([X_train_combined, X_test_combined])\n",
    "y_combined = np.concatenate([y_train, y_test])\n",
    "\n",
    "for model in models:\n",
    "    avg_accuracy = cross_validate_model(model, X_combined, y_combined)\n",
    "    print(f'Average Cross-Validation Accuracy of {model.__class__.__name__}: {avg_accuracy}')"
   ]
  },
  {
   "cell_type": "code",
   "execution_count": 32,
   "metadata": {
    "scrolled": false
   },
   "outputs": [
    {
     "name": "stdout",
     "output_type": "stream",
     "text": [
      "[LibSVM]....WARN: libsvm Solver reached max_iter\n",
      "optimization finished, #iter = 5000\n",
      "obj = -9992.810143, rho = -0.377856\n",
      "nSV = 10000, nBSV = 10000\n",
      "....WARN: libsvm Solver reached max_iter\n",
      "optimization finished, #iter = 5000\n",
      "obj = -10000.591093, rho = -0.023702\n",
      "nSV = 10000, nBSV = 10000\n",
      "....WARN: libsvm Solver reached max_iter\n",
      "optimization finished, #iter = 5000\n",
      "obj = -9994.507028, rho = -0.002800\n",
      "nSV = 10000, nBSV = 10000\n",
      "....WARN: libsvm Solver reached max_iter\n",
      "optimization finished, #iter = 5000\n",
      "obj = -9999.133439, rho = -0.000496\n",
      "nSV = 10000, nBSV = 10000\n",
      "....WARN: libsvm Solver reached max_iter\n",
      "optimization finished, #iter = 5000\n",
      "obj = -9395.174215, rho = -0.286973\n",
      "nSV = 10000, nBSV = 10000\n",
      "....WARN: libsvm Solver reached max_iter\n",
      "optimization finished, #iter = 5000\n",
      "obj = -10004.937956, rho = 0.203163\n",
      "nSV = 10000, nBSV = 10000\n",
      "....WARN: libsvm Solver reached max_iter\n",
      "optimization finished, #iter = 5000\n",
      "obj = -10012.173308, rho = 0.151331\n",
      "nSV = 10000, nBSV = 10000\n",
      "....WARN: libsvm Solver reached max_iter\n",
      "optimization finished, #iter = 5000\n",
      "obj = -10027.590140, rho = -0.000807\n",
      "nSV = 10000, nBSV = 10000\n",
      "....WARN: libsvm Solver reached max_iter\n",
      "optimization finished, #iter = 5000\n",
      "obj = -9996.254601, rho = -0.000517\n",
      "nSV = 10000, nBSV = 10000\n",
      "....WARN: libsvm Solver reached max_iter\n",
      "optimization finished, #iter = 5000\n",
      "obj = -9999.249658, rho = -0.000533\n",
      "nSV = 10000, nBSV = 10000\n",
      "Total nSV = 46828\n"
     ]
    },
    {
     "name": "stderr",
     "output_type": "stream",
     "text": [
      "/anaconda/envs/azureml_py38/lib/python3.8/site-packages/sklearn/svm/_base.py:297: ConvergenceWarning: Solver terminated early (max_iter=5000).  Consider pre-processing your data with StandardScaler or MinMaxScaler.\n",
      "  warnings.warn(\n"
     ]
    },
    {
     "name": "stdout",
     "output_type": "stream",
     "text": [
      "Accuracy of Voting Classifier: 0.6315183665298769\n"
     ]
    }
   ],
   "source": [
    "voting_classifier = VotingClassifier(\n",
    "    estimators=[\n",
    "        ('lr', logistic_model),\n",
    "        ('knn', knn_model),\n",
    "        ('rf', rf_model),\n",
    "        ('svm', svm_model)\n",
    "    ],\n",
    "    voting='hard'\n",
    ")\n",
    "\n",
    "voting_classifier.fit(X_train_combined, y_train)\n",
    "ensemble_pred = voting_classifier.predict(X_test_combined)\n",
    "ensemble_accuracy = accuracy_score(y_test, ensemble_pred)\n",
    "print(f'Accuracy of Voting Classifier: {ensemble_accuracy}')"
   ]
  },
  {
   "cell_type": "markdown",
   "metadata": {},
   "source": [
    "Once you have identified your best model, you can fit it on the entire dataset and save all relevant data processing objects to files in a `models` directory, so that you can use it as your deployment directory in the next part.\n",
    "\n",
    "**Notes**:\n",
    "* Your model file names should not contain any space character."
   ]
  },
  {
   "cell_type": "code",
   "execution_count": 12,
   "metadata": {},
   "outputs": [],
   "source": [
    "## YOUR MODEL SAVING CODE HERE ##\n",
    "\n",
    "def apply_tfidf_vectorization(data):\n",
    "    vectorizer = TfidfVectorizer(max_features=5000, ngram_range=(1, 2))\n",
    "    X_tfidf = vectorizer.fit_transform(data)\n",
    "    feature_names = vectorizer.get_feature_names_out()\n",
    "    return X_tfidf, vectorizer, feature_names\n",
    "\n",
    "X_tfidf, vectorizer, feature_names = apply_tfidf_vectorization(df_reviews['processed_review'].fillna(''))"
   ]
  },
  {
   "cell_type": "code",
   "execution_count": 16,
   "metadata": {},
   "outputs": [],
   "source": [
    "logistic_model = LogisticRegression(max_iter=1000)"
   ]
  },
  {
   "cell_type": "code",
   "execution_count": 17,
   "metadata": {},
   "outputs": [
    {
     "data": {
      "text/html": [
       "<style>#sk-container-id-1 {color: black;}#sk-container-id-1 pre{padding: 0;}#sk-container-id-1 div.sk-toggleable {background-color: white;}#sk-container-id-1 label.sk-toggleable__label {cursor: pointer;display: block;width: 100%;margin-bottom: 0;padding: 0.3em;box-sizing: border-box;text-align: center;}#sk-container-id-1 label.sk-toggleable__label-arrow:before {content: \"▸\";float: left;margin-right: 0.25em;color: #696969;}#sk-container-id-1 label.sk-toggleable__label-arrow:hover:before {color: black;}#sk-container-id-1 div.sk-estimator:hover label.sk-toggleable__label-arrow:before {color: black;}#sk-container-id-1 div.sk-toggleable__content {max-height: 0;max-width: 0;overflow: hidden;text-align: left;background-color: #f0f8ff;}#sk-container-id-1 div.sk-toggleable__content pre {margin: 0.2em;color: black;border-radius: 0.25em;background-color: #f0f8ff;}#sk-container-id-1 input.sk-toggleable__control:checked~div.sk-toggleable__content {max-height: 200px;max-width: 100%;overflow: auto;}#sk-container-id-1 input.sk-toggleable__control:checked~label.sk-toggleable__label-arrow:before {content: \"▾\";}#sk-container-id-1 div.sk-estimator input.sk-toggleable__control:checked~label.sk-toggleable__label {background-color: #d4ebff;}#sk-container-id-1 div.sk-label input.sk-toggleable__control:checked~label.sk-toggleable__label {background-color: #d4ebff;}#sk-container-id-1 input.sk-hidden--visually {border: 0;clip: rect(1px 1px 1px 1px);clip: rect(1px, 1px, 1px, 1px);height: 1px;margin: -1px;overflow: hidden;padding: 0;position: absolute;width: 1px;}#sk-container-id-1 div.sk-estimator {font-family: monospace;background-color: #f0f8ff;border: 1px dotted black;border-radius: 0.25em;box-sizing: border-box;margin-bottom: 0.5em;}#sk-container-id-1 div.sk-estimator:hover {background-color: #d4ebff;}#sk-container-id-1 div.sk-parallel-item::after {content: \"\";width: 100%;border-bottom: 1px solid gray;flex-grow: 1;}#sk-container-id-1 div.sk-label:hover label.sk-toggleable__label {background-color: #d4ebff;}#sk-container-id-1 div.sk-serial::before {content: \"\";position: absolute;border-left: 1px solid gray;box-sizing: border-box;top: 0;bottom: 0;left: 50%;z-index: 0;}#sk-container-id-1 div.sk-serial {display: flex;flex-direction: column;align-items: center;background-color: white;padding-right: 0.2em;padding-left: 0.2em;position: relative;}#sk-container-id-1 div.sk-item {position: relative;z-index: 1;}#sk-container-id-1 div.sk-parallel {display: flex;align-items: stretch;justify-content: center;background-color: white;position: relative;}#sk-container-id-1 div.sk-item::before, #sk-container-id-1 div.sk-parallel-item::before {content: \"\";position: absolute;border-left: 1px solid gray;box-sizing: border-box;top: 0;bottom: 0;left: 50%;z-index: -1;}#sk-container-id-1 div.sk-parallel-item {display: flex;flex-direction: column;z-index: 1;position: relative;background-color: white;}#sk-container-id-1 div.sk-parallel-item:first-child::after {align-self: flex-end;width: 50%;}#sk-container-id-1 div.sk-parallel-item:last-child::after {align-self: flex-start;width: 50%;}#sk-container-id-1 div.sk-parallel-item:only-child::after {width: 0;}#sk-container-id-1 div.sk-dashed-wrapped {border: 1px dashed gray;margin: 0 0.4em 0.5em 0.4em;box-sizing: border-box;padding-bottom: 0.4em;background-color: white;}#sk-container-id-1 div.sk-label label {font-family: monospace;font-weight: bold;display: inline-block;line-height: 1.2em;}#sk-container-id-1 div.sk-label-container {text-align: center;}#sk-container-id-1 div.sk-container {/* jupyter's `normalize.less` sets `[hidden] { display: none; }` but bootstrap.min.css set `[hidden] { display: none !important; }` so we also need the `!important` here to be able to override the default hidden behavior on the sphinx rendered scikit-learn.org. See: https://github.com/scikit-learn/scikit-learn/issues/21755 */display: inline-block !important;position: relative;}#sk-container-id-1 div.sk-text-repr-fallback {display: none;}</style><div id=\"sk-container-id-1\" class=\"sk-top-container\"><div class=\"sk-text-repr-fallback\"><pre>LogisticRegression(max_iter=1000)</pre><b>In a Jupyter environment, please rerun this cell to show the HTML representation or trust the notebook. <br />On GitHub, the HTML representation is unable to render, please try loading this page with nbviewer.org.</b></div><div class=\"sk-container\" hidden><div class=\"sk-item\"><div class=\"sk-estimator sk-toggleable\"><input class=\"sk-toggleable__control sk-hidden--visually\" id=\"sk-estimator-id-1\" type=\"checkbox\" checked><label for=\"sk-estimator-id-1\" class=\"sk-toggleable__label sk-toggleable__label-arrow\">LogisticRegression</label><div class=\"sk-toggleable__content\"><pre>LogisticRegression(max_iter=1000)</pre></div></div></div></div></div>"
      ],
      "text/plain": [
       "LogisticRegression(max_iter=1000)"
      ]
     },
     "execution_count": 17,
     "metadata": {},
     "output_type": "execute_result"
    }
   ],
   "source": [
    "logistic_model.fit(X_tfidf, df_reviews['star_rating'])"
   ]
  },
  {
   "cell_type": "code",
   "execution_count": 18,
   "metadata": {},
   "outputs": [
    {
     "data": {
      "text/plain": [
       "['models/tfidf_vectorizer.pkl']"
      ]
     },
     "execution_count": 18,
     "metadata": {},
     "output_type": "execute_result"
    }
   ],
   "source": [
    "model_directory = 'models'\n",
    "if not os.path.exists(model_directory):\n",
    "    os.makedirs(model_directory)\n",
    "    \n",
    "joblib.dump(logistic_model, os.path.join(model_directory, 'logistic_regression_model.pkl'))\n",
    "joblib.dump(vectorizer, os.path.join(model_directory, 'tfidf_vectorizer.pkl'))"
   ]
  },
  {
   "cell_type": "markdown",
   "metadata": {
    "colab_type": "text",
    "id": "euNySRUChixb"
   },
   "source": [
    "## Part E: Model Deployment\n",
    "\n",
    "Now you will deploy your model to a local endpoint, test it on some sample data, and then deploy the model to a public endpoint -- this is the same process you performed in **Project 6 and 7**. You can follow the steps in the [Model deployment primer](https://nbviewer.jupyter.org/url/clouddatascience.blob.core.windows.net/primers/machine-learning-azure-primer/azure_model_deployment_primer.ipynb). Make sure to pay attention to how it handles custom functions and classes, if you used them in previous steps. Note also that for `myenv.yml`, you should list all the pip packages that you have used in this project, along with their version number."
   ]
  },
  {
   "cell_type": "markdown",
   "metadata": {
    "colab_type": "text",
    "id": "euNySRUChixb"
   },
   "source": [
    "### Deployment specification\n",
    "\n",
    "Our grader will send a POST request to your endpoint, where the JSON content will be structured as follows:\n",
    "\n",
    "```python\n",
    "request_content = \"\"\"{\n",
    "    \"n_reviews\" : 2,\n",
    "    \"reviews\" : [\n",
    "        {\n",
    "            \"marketplace\" : \"US\",\n",
    "            \"customer_id\" : \"20422322\",\n",
    "            \"review_id\" : \"R8MEA6IGAHO0B\",\n",
    "            \"product_id\" : \"B00MC4CED8\",\n",
    "            \"product_parent\" : \"217304173\",\n",
    "            \"product_title\" : \"BlackVue\",\n",
    "            \"product_category\" : \"Mobile_Electronics\",\n",
    "            \"helpful_votes\" : 0,\n",
    "            \"total_votes\" : 0,\n",
    "            \"vine\" : \"N\",\n",
    "            \"verified_purchase\" : \"Y\",\n",
    "            \"review_headline\" : \"Very Happy!\tAs advertised.\",\n",
    "            \"review_body\" : \"Everything works perfectly, I'm happy\",\n",
    "            \"review_date\" : \"2015-08-31\"\n",
    "        },\n",
    "        {\n",
    "            \"marketplace\" : \"US\",\n",
    "            \"customer_id\" : \"15204307\",\n",
    "            \"review_id\" : \"RZGDLDMGMGKLB\",\n",
    "            \"product_id\" : \"B000I3F91O\",\n",
    "            \"product_parent\" : \"90621845\",\n",
    "            \"product_title\" : \"Sangean H205 AM/FM Weather Alert Waterproof\",\n",
    "            \"product_category\" : \"Electronics\",\n",
    "            \"helpful_votes\" : 0,\n",
    "            \"total_votes\" : 0,\n",
    "            \"vine\" : \"N\",\n",
    "            \"verified_purchase\" : \"Y\",\n",
    "            \"review_headline\" : \"Best shower radio I have ever owned\",\n",
    "            \"review_body\" : \"love shower radio own shower radio best one\",\n",
    "            \"review_date\" : \"2014-11-08\"\n",
    "        },\n",
    "    ]\n",
    "}\n",
    "\"\"\"\n",
    "```\n",
    "\n",
    "Here `n_reviews` indicates the number of reviews included in the request, and `reviews` is a list of dictionaries, each having the same schema as a row in the provided dataset (but without the `star_rating` attribute, which is what you need to predict).\n",
    "\n",
    "The expected response is a JSON with the following format:\n",
    "\n",
    "```python\n",
    "response_content = {\n",
    "    \"predictions\" : [2, 3]\n",
    "}\n",
    "```\n",
    "where the key `predictions` maps to a list of predicted labels, one for each input review in `request_content`. Keep in mind that this list should be a standard Python list, not a Numpy array or Pandas series, which are not JSON serializable.\n",
    "\n",
    "**Notes**:\n",
    "* If you have put your custom functions / classes in a separate Python file, for example `my_custom_code.py` in the current directory, this file will be sent to the deployment environment as well. Therefore, you can include `import my_custom_code` in your scoring script.\n",
    "* If you use `nltk` in your data processing, note that the Docker environment used for deployment does not have any NLTK data by default. Therefore, you may need to explicitly download them in your `init` function, for example `nltk.download(\"stopwords\")`. If you use the text processing code from Project 4, refer to the `nltk.download` commands provided at the beginning of the Project 4 notebook."
   ]
  },
  {
   "cell_type": "code",
   "execution_count": 19,
   "metadata": {},
   "outputs": [],
   "source": [
    "## YOUR ENVIRONMENT SETUP CODE HERE ##\n",
    "import azureml.core\n",
    "from azureml.core.workspace import Workspace\n",
    "from azureml.core.model import Model\n",
    "from azureml.core.webservice import LocalWebservice, AciWebservice\n",
    "from azureml.core.model import InferenceConfig\n",
    "from azureml.core.webservice import Webservice\n",
    "from azureml.core.model import Model\n",
    "from azureml.core.environment import Environment\n",
    "from azureml.core.conda_dependencies import CondaDependencies "
   ]
  },
  {
   "cell_type": "code",
   "execution_count": null,
   "metadata": {},
   "outputs": [],
   "source": [
    "ws = Workspace.from_config()\n",
    "print('Workspace name: ' + ws.name, \n",
    "      'Azure region: ' + ws.location, \n",
    "      'Subscription id: ' + ws.subscription_id, \n",
    "      'Resource group: ' + ws.resource_group, sep='\\n')"
   ]
  },
  {
   "cell_type": "code",
   "execution_count": null,
   "metadata": {},
   "outputs": [],
   "source": [
    "model_path = './models/logistic_regression_model.pkl'\n",
    "vectorizer_path = './models/tfidf_vectorizer.pkl'\n",
    "\n",
    "register_LR_model = Model.register(workspace=ws,\n",
    "                                  model_name='LogisticRegression',\n",
    "                                  model_path=model_path,\n",
    "                                  description='Logistic Regression model')\n",
    "\n",
    "register_Vectorizer = Model.register(workspace=ws,\n",
    "                                    model_name='TFIDF_Vectorizer',\n",
    "                                    model_path=vectorizer_path,\n",
    "                                    description='TF-IDF Vectorizer')"
   ]
  },
  {
   "cell_type": "code",
   "execution_count": 61,
   "metadata": {},
   "outputs": [
    {
     "name": "stdout",
     "output_type": "stream",
     "text": [
      "Overwriting ./score.py\n"
     ]
    }
   ],
   "source": [
    "%%writefile ./score.py\n",
    "## YOUR SCORE.PY CODE HERE ##\n",
    "import json\n",
    "import os\n",
    "import joblib\n",
    "import pandas as pd\n",
    "from azureml.core.model import Model\n",
    "from sklearn.feature_extraction.text import TfidfVectorizer\n",
    "from scipy.sparse import csr_matrix\n",
    "from bs4 import BeautifulSoup\n",
    "import re\n",
    "import nltk\n",
    "from nltk.corpus import stopwords\n",
    "\n",
    "nltk.download('stopwords', quiet=True)\n",
    "english_stopwords = set(stopwords.words('english'))\n",
    "\n",
    "lemmatizer = WordNetLemmatizer()\n",
    "english_stopwords = set(nltk.corpus.stopwords.words('english'))\n",
    "\n",
    "def init():\n",
    "    global model, vectorizer\n",
    "    model_path = Model.get_model_path('LogisticRegressionModel')\n",
    "    vectorizer_path = Model.get_model_path('TFIDFVectorizer')\n",
    "    \n",
    "    model = joblib.load(model_path)\n",
    "    vectorizer = joblib.load(vectorizer_path)\n",
    "   \n",
    "def preprocess_text(text):\n",
    "    if pd.isna(text):\n",
    "        return \"\"\n",
    "    text = BeautifulSoup(text, \"html.parser\").get_text()\n",
    "    text = re.sub(r\"[^a-zA-Z]\", \" \", text.lower()).strip()\n",
    "    words = text.split()\n",
    "    cleaned_words = [word for word in words if word not in english_stopwords]\n",
    "    return ' '.join(cleaned_words)\n",
    "\n",
    "def run(raw_data):\n",
    "    try:\n",
    "        data = json.loads(raw_data)\n",
    "        \n",
    "        reviews = data['reviews']\n",
    "        review_texts = [review['review_body'] for review in reviews]\n",
    "        \n",
    "        processed_texts = [preprocess_text(text) for text in review_texts]\n",
    "        \n",
    "        features = vectorizer.transform(processed_texts)\n",
    "        \n",
    "        predictions = model.predict(features)\n",
    "        \n",
    "        return json.dumps({\"predictions\": predictions.tolist()})\n",
    "    except Exception as e:\n",
    "        error = {\"error\": str(e)}\n",
    "        return json.dumps(error)"
   ]
  },
  {
   "cell_type": "code",
   "execution_count": 62,
   "metadata": {
    "scrolled": false
   },
   "outputs": [
    {
     "name": "stdout",
     "output_type": "stream",
     "text": [
      "## YOUR SCORE.PY CODE HERE ##\r\n",
      "import json\r\n",
      "import os\r\n",
      "import joblib\r\n",
      "import pandas as pd\r\n",
      "import re\r\n",
      "from bs4 import BeautifulSoup\r\n",
      "import nltk\r\n",
      "from nltk.stem import WordNetLemmatizer\r\n",
      "from nltk.corpus import wordnet\r\n",
      "from sklearn.feature_extraction.text import TfidfVectorizer\r\n",
      "from scipy.sparse import hstack, csr_matrix\r\n",
      "from nltk import pos_tag, word_tokenize\r\n",
      "from azureml.core.model import Model\r\n",
      "\r\n",
      "lemmatizer = WordNetLemmatizer()\r\n",
      "english_stopwords = set(nltk.corpus.stopwords.words('english'))\r\n",
      "\r\n",
      "def init():\r\n",
      "    global model, vectorizer\r\n",
      "    try:\r\n",
      "        model_path = Model.get_model_path('LogisticRegression')\r\n",
      "        vectorizer_path = Model.get_model_path('TFIDF_Vectorizer')\r\n",
      "        model = joblib.load(model_path)\r\n",
      "        vectorizer = joblib.load(vectorizer_path)\r\n",
      "        print(\"Model and vectorizer loaded successfully.\")\r\n",
      "    except Exception as e:\r\n",
      "        print(f\"Error loading model or vectorizer: {e}\")\r\n",
      "        raise e\r\n",
      "    \r\n",
      "def run(raw_data):\r\n",
      "    try:\r\n",
      "        data = json.loads(raw_data)\r\n",
      "        reviews = data['reviews']\r\n",
      "        data_df = pd.DataFrame(reviews)\r\n",
      "        data_df['processed_text'] = data_df['review_body'].apply(preprocess_text)\r\n",
      "        tfidf_features = vectorizer.transform(data_df['processed_text'])\r\n",
      "        additional_features = create_additional_features(data_df)\r\n",
      "        additional_features_sparse = csr_matrix(additional_features)\r\n",
      "        all_features = hstack([tfidf_features, additional_features_sparse])\r\n",
      "        predictions = model.predict(all_features)\r\n",
      "        return json.dumps({\"result\": predictions.tolist()})\r\n",
      "    except Exception as e:\r\n",
      "        return json.dumps({\"error\": str(e)})\r\n",
      "\r\n",
      "def preprocess_text(text):\r\n",
      "    text = BeautifulSoup(text or \"\", \"html.parser\").get_text()\r\n",
      "    text = re.sub(r\"[^a-zA-Z]\", \" \", text.lower()).strip()\r\n",
      "    tokens = [lemmatizer.lemmatize(word, get_wordnet_pos(tag)) for word, tag in pos_tag(word_tokenize(text)) \r\n",
      "              if word not in english_stopwords]\r\n",
      "    return ' '.join(tokens)\r\n",
      "\r\n",
      "def get_wordnet_pos(tag):\r\n",
      "    if tag.startswith('J'):\r\n",
      "        return wordnet.ADJ\r\n",
      "    elif tag.startswith('V'):\r\n",
      "        return wordnet.VERB\r\n",
      "    elif tag.startswith('R'):\r\n",
      "        return wordnet.ADV\r\n",
      "    return wordnet.NOUN\r\n",
      "    \r\n",
      "def clean_text(text):\r\n",
      "    if pd.isna(text):\r\n",
      "        return \"\"\r\n",
      "    text = BeautifulSoup(text, \"html.parser\").get_text()\r\n",
      "    text = text.lower()\r\n",
      "    text = re.sub(r\"'s\\b\", \"\", text)\r\n",
      "    text = re.sub(\"[^a-zA-Z]\", \" \", text)\r\n",
      "    text = re.sub(r\"'s(\\s|$)\", r\"\\1\", text)\r\n",
      "    text = text.replace(\"'\", \"\")\r\n",
      "    text = text.strip()\r\n",
      "    return text\r\n",
      "\r\n",
      "def create_additional_features(df):\r\n",
      "    df['review_length'] = df['review_body'].apply(lambda x: len(x or \"\"))\r\n",
      "    df['helpfulness_ratio'] = df.apply(lambda x: x['helpful_votes'] / (x['total_votes'] or 1), axis=1)\r\n",
      "    df['vine_program'] = df['vine'].apply(lambda x: 1 if x == 'Y' else 0)\r\n",
      "    df['verified_purchase'] = df['verified_purchase'].apply(lambda x: 1 if x == 'Y' else 0)\r\n",
      "    return df[['review_length', 'helpfulness_ratio', 'vine_program', 'verified_purchase']]\r\n"
     ]
    }
   ],
   "source": [
    "!cat score.py"
   ]
  },
  {
   "cell_type": "code",
   "execution_count": 63,
   "metadata": {},
   "outputs": [
    {
     "name": "stdout",
     "output_type": "stream",
     "text": [
      "# Conda environment specification. The dependencies defined in this file will\r\n",
      "# be automatically provisioned for runs with userManagedDependencies=False.\r\n",
      "\n",
      "# Details about the Conda environment file format:\r\n",
      "# https://conda.io/docs/user-guide/tasks/manage-environments.html#create-env-file-manually\r\n",
      "\n",
      "name: project_environment\n",
      "dependencies:\n",
      "  # The python interpreter version.\r\n",
      "  # Currently Azure ML only supports 3.8 and later.\r\n",
      "- python=3.8.13\n",
      "\n",
      "- pip:\n",
      "  - azureml-defaults~=1.56.0\n",
      "  - numpy\n",
      "  - pandas\n",
      "  - scikit-learn\n",
      "  - nltk\n",
      "  - beautifulsoup4\n",
      "  - joblib\n",
      "  - azureml-core~=1.56.0\n",
      "  - scipy\n",
      "  - regex\n",
      "channels:\n",
      "- anaconda\n",
      "- conda-forge\n",
      "\n"
     ]
    }
   ],
   "source": [
    "environment_file = CondaDependencies.create(pip_packages=[\n",
    "    'azureml-defaults', \n",
    "    'numpy', \n",
    "    'pandas', \n",
    "    'scikit-learn', \n",
    "    'nltk', \n",
    "    'beautifulsoup4', \n",
    "    'joblib',\n",
    "    'azureml-core', \n",
    "    'scipy',\n",
    "    'regex',\n",
    "])\n",
    "\n",
    "with open(\"myenv.yml\",\"w\") as f:\n",
    "    f.write(environment_file.serialize_to_string())\n",
    "    \n",
    "print(environment_file.serialize_to_string())"
   ]
  },
  {
   "cell_type": "code",
   "execution_count": null,
   "metadata": {
    "scrolled": false
   },
   "outputs": [
    {
     "name": "stderr",
     "output_type": "stream",
     "text": [
      "/tmp/ipykernel_6852/3322490080.py:6: FutureWarning: azureml.core.model:\n",
      "To leverage new model deployment capabilities, AzureML recommends using CLI/SDK v2 to deploy models as online endpoint, \n",
      "please refer to respective documentations \n",
      "https://docs.microsoft.com/azure/machine-learning/how-to-deploy-managed-online-endpoints /\n",
      "https://docs.microsoft.com/azure/machine-learning/how-to-attach-kubernetes-anywhere \n",
      "For more information on migration, see https://aka.ms/acimoemigration \n",
      "To disable CLI/SDK v1 deprecation warning set AZUREML_LOG_DEPRECATION_WARNING_ENABLED to 'False'\n",
      "  local_service_1 = Model.deploy(workspace=ws,\n"
     ]
    },
    {
     "name": "stdout",
     "output_type": "stream",
     "text": [
      "Downloading model LogisticRegression:2 to /tmp/azureml_xus741ul/LogisticRegression/2\n",
      "Downloading model TFIDF_Vectorizer:3 to /tmp/azureml_xus741ul/TFIDF_Vectorizer/3\n",
      "Generating Docker build context.\n"
     ]
    }
   ],
   "source": [
    "myenv = Environment.from_conda_specification(name=\"myenv\", file_path=\"myenv.yml\")\n",
    "inference_config = InferenceConfig(source_directory='.', entry_script=\"score.py\", environment=myenv)\n",
    "local_deployment_config = LocalWebservice.deploy_configuration(port=8891)\n",
    "\n",
    "registered_models = [register_LR_model, register_Vectorizer]\n",
    "local_service_1 = Model.deploy(workspace=ws,\n",
    "                             name=\"local-service\",\n",
    "                             models=registered_models,\n",
    "                             inference_config=inference_config,\n",
    "                             deployment_config=local_deployment_config)"
   ]
  },
  {
   "cell_type": "code",
   "execution_count": 67,
   "metadata": {
    "scrolled": false
   },
   "outputs": [
    {
     "name": "stderr",
     "output_type": "stream",
     "text": [
      "Cannot call wait_for_deployment() when service is failed.\n",
      "\n"
     ]
    },
    {
     "ename": "WebserviceException",
     "evalue": "WebserviceException:\n\tMessage: Cannot call wait_for_deployment() when service is failed.\n\tInnerException None\n\tErrorResponse \n{\n    \"error\": {\n        \"message\": \"Cannot call wait_for_deployment() when service is failed.\"\n    }\n}",
     "output_type": "error",
     "traceback": [
      "\u001b[0;31m---------------------------------------------------------------------------\u001b[0m",
      "\u001b[0;31mWebserviceException\u001b[0m                       Traceback (most recent call last)",
      "Cell \u001b[0;32mIn[67], line 1\u001b[0m\n\u001b[0;32m----> 1\u001b[0m \u001b[43mlocal_service\u001b[49m\u001b[38;5;241;43m.\u001b[39;49m\u001b[43mwait_for_deployment\u001b[49m\u001b[43m(\u001b[49m\u001b[43mshow_output\u001b[49m\u001b[38;5;241;43m=\u001b[39;49m\u001b[38;5;28;43;01mTrue\u001b[39;49;00m\u001b[43m)\u001b[49m\n",
      "File \u001b[0;32m/anaconda/envs/azureml_py38/lib/python3.8/site-packages/azureml/core/webservice/local.py:70\u001b[0m, in \u001b[0;36m_in_state.<locals>.decorator.<locals>.decorated\u001b[0;34m(self, *args, **kwargs)\u001b[0m\n\u001b[1;32m     67\u001b[0m \u001b[38;5;129m@wraps\u001b[39m(func)\n\u001b[1;32m     68\u001b[0m \u001b[38;5;28;01mdef\u001b[39;00m \u001b[38;5;21mdecorated\u001b[39m(\u001b[38;5;28mself\u001b[39m, \u001b[38;5;241m*\u001b[39margs, \u001b[38;5;241m*\u001b[39m\u001b[38;5;241m*\u001b[39mkwargs):\n\u001b[1;32m     69\u001b[0m     \u001b[38;5;28;01mif\u001b[39;00m \u001b[38;5;28mself\u001b[39m\u001b[38;5;241m.\u001b[39mstate \u001b[38;5;129;01mnot\u001b[39;00m \u001b[38;5;129;01min\u001b[39;00m states:\n\u001b[0;32m---> 70\u001b[0m         \u001b[38;5;28;01mraise\u001b[39;00m WebserviceException(\u001b[38;5;124m'\u001b[39m\u001b[38;5;124mCannot call \u001b[39m\u001b[38;5;132;01m{}\u001b[39;00m\u001b[38;5;124m() when service is \u001b[39m\u001b[38;5;132;01m{}\u001b[39;00m\u001b[38;5;124m.\u001b[39m\u001b[38;5;124m'\u001b[39m\u001b[38;5;241m.\u001b[39mformat(func\u001b[38;5;241m.\u001b[39m\u001b[38;5;18m__name__\u001b[39m, \u001b[38;5;28mself\u001b[39m\u001b[38;5;241m.\u001b[39mstate),\n\u001b[1;32m     71\u001b[0m                                   logger\u001b[38;5;241m=\u001b[39mmodule_logger)\n\u001b[1;32m     72\u001b[0m     \u001b[38;5;28;01mreturn\u001b[39;00m func(\u001b[38;5;28mself\u001b[39m, \u001b[38;5;241m*\u001b[39margs, \u001b[38;5;241m*\u001b[39m\u001b[38;5;241m*\u001b[39mkwargs)\n",
      "\u001b[0;31mWebserviceException\u001b[0m: WebserviceException:\n\tMessage: Cannot call wait_for_deployment() when service is failed.\n\tInnerException None\n\tErrorResponse \n{\n    \"error\": {\n        \"message\": \"Cannot call wait_for_deployment() when service is failed.\"\n    }\n}"
     ]
    }
   ],
   "source": [
    "local_service.wait_for_deployment(show_output=True)"
   ]
  },
  {
   "cell_type": "markdown",
   "metadata": {},
   "source": [
    "We provide the code for testing your local service as follows. This assumes you have previously called `local_service.wait_for_deployment()`. If you use a different variable name for your local service, simply change it accordingly in the provided code."
   ]
  },
  {
   "cell_type": "code",
   "execution_count": 37,
   "metadata": {},
   "outputs": [
    {
     "name": "stdout",
     "output_type": "stream",
     "text": [
      "{\"error\": \"name 'string' is not defined\"}\n"
     ]
    }
   ],
   "source": [
    "example_json = json.dumps({\n",
    "    \"n_reviews\" : 2,\n",
    "    \"reviews\" : [\n",
    "        {\n",
    "            \"marketplace\" : \"US\",\n",
    "            \"customer_id\" : \"20422322\",\n",
    "            \"review_id\" : \"R8MEA6IGAHO0B\",\n",
    "            \"product_id\" : \"B00MC4CED8\",\n",
    "            \"product_parent\" : \"217304173\",\n",
    "            \"product_title\" : \"BlackVue\",\n",
    "            \"product_category\" : \"Mobile_Electronics\",\n",
    "            \"helpful_votes\" : 0,\n",
    "            \"total_votes\" : 0,\n",
    "            \"vine\" : \"N\",\n",
    "            \"verified_purchase\" : \"Y\",\n",
    "            \"review_headline\" : \"Very Happy!    As advertised.\",\n",
    "            \"review_body\" : \"Everything works perfectly, I'm happy\",\n",
    "            \"review_date\" : \"2015-08-31\"\n",
    "        },\n",
    "        {\n",
    "            \"marketplace\" : \"US\",\n",
    "            \"customer_id\" : \"15204307\",\n",
    "            \"review_id\" : \"RZGDLDMGMGKLB\",\n",
    "            \"product_id\" : \"B000I3F91O\",\n",
    "            \"product_parent\" : \"90621845\",\n",
    "            \"product_title\" : \"Sangean H205 AM/FM Weather Alert Waterproof\",\n",
    "            \"product_category\" : \"Electronics\",\n",
    "            \"helpful_votes\" : 0,\n",
    "            \"total_votes\" : 0,\n",
    "            \"vine\" : \"N\",\n",
    "            \"verified_purchase\" : \"Y\",\n",
    "            \"review_headline\" : \"Best shower radio I have ever owned\",\n",
    "            \"review_body\" : \"love shower radio own shower radio best one\",\n",
    "            \"review_date\" : \"2014-11-08\"\n",
    "        },\n",
    "    ]\n",
    "})\n",
    "example_json = bytes(example_json, encoding = \"utf8\")\n",
    "output = local_service.run(example_json)\n",
    "print(output)"
   ]
  },
  {
   "cell_type": "code",
   "execution_count": null,
   "metadata": {},
   "outputs": [],
   "source": []
  },
  {
   "cell_type": "code",
   "execution_count": null,
   "metadata": {},
   "outputs": [],
   "source": []
  },
  {
   "cell_type": "markdown",
   "metadata": {},
   "source": [
    "Once your local service is ready, you can now deploy it to a public endpoint. While creating an `AciWebservice,` you can set `cpu_cores=3.8` and `memory_gb=15` to maximize the processing power in the deployment environment.\n",
    "\n",
    "If Azure complains that the specified specs are too high, you can check the specific upper bounds for your region [here](https://docs.microsoft.com/en-us/azure/container-instances/container-instances-region-availability)."
   ]
  },
  {
   "cell_type": "markdown",
   "metadata": {},
   "source": [
    "Once your service has deployed succesfully, save your `scoring_uri` to a text file called `scoring_uri.txt`. This file will be collected by the submitter when you submit your code."
   ]
  },
  {
   "cell_type": "code",
   "execution_count": null,
   "metadata": {},
   "outputs": [],
   "source": [
    "## YOUR SCORING_URI CODE HERE ##"
   ]
  },
  {
   "cell_type": "markdown",
   "metadata": {
    "colab_type": "text",
    "id": "euNySRUChixb"
   },
   "source": [
    "We provide the code to send some example POST requests to your deployment URI as follows. You can run it to check that your deployed model is working. Our grader will run the same code to communicate with your endpoint:"
   ]
  },
  {
   "cell_type": "code",
   "execution_count": null,
   "metadata": {
    "colab": {},
    "colab_type": "code",
    "id": "t4GMSsv6opVp"
   },
   "outputs": [],
   "source": [
    "def ping_endpoint(json_data, uri = None):\n",
    "    if uri is None:\n",
    "        uri = open(\"scoring_uri.txt\", \"r\").read()\n",
    "    headers = {'Content-Type' : 'application/json'}\n",
    "    response = requests.post(uri, json_data, headers = headers)\n",
    "    return response.status_code, response.text"
   ]
  },
  {
   "cell_type": "markdown",
   "metadata": {},
   "source": [
    "Let's test your model on the provided `example_json`. Check that the status code is 200 and the predicted labels are what you expect."
   ]
  },
  {
   "cell_type": "code",
   "execution_count": null,
   "metadata": {},
   "outputs": [],
   "source": [
    "# test the deployed model with 2 samples\n",
    "status_code, predicted_labels = ping_endpoint(example_json)\n",
    "print(status_code)\n",
    "print(predicted_labels)"
   ]
  },
  {
   "cell_type": "markdown",
   "metadata": {},
   "source": [
    "Now you can test your model on a 5000-row subset of the training dataset. Again check that the status code is 200 and the predict labels are a list of 5000 integers. If you encounter any error, check your `service.get_logs()`. One common issue is that the request times out; in other words, your deployed model takes too long to process the test data and generate predictions. To address this, you would need to optimize your data processing steps and redeploy them. Our grader will also send 5000 rows of test data to your endpoint in one single request.\n",
    "\n",
    "**Notes**:\n",
    "* Azure ACI enforces a one-minute timeout for handling the input request. If your code takes longer than one minute, the endpoint will return a 502 or 504 error."
   ]
  },
  {
   "cell_type": "code",
   "execution_count": null,
   "metadata": {},
   "outputs": [],
   "source": [
    "from sklearn.metrics import accuracy_score\n",
    "\n",
    "def construct_json_input():\n",
    "    df_training_subset = read_data().sample(n = 5000, random_state = 200)\n",
    "    true_labels = df_training_subset[\"star_rating\"]\n",
    "    training_subset_json = json.dumps({\n",
    "        \"n_reviews\" : len(df_training_subset),\n",
    "        \"reviews\" : df_training_subset.drop(columns = \"star_rating\").to_dict(\"records\")\n",
    "    })\n",
    "    return bytes(training_subset_json, encoding = \"utf8\"), true_labels\n",
    "\n",
    "# test the deployed model with a subset of training data\n",
    "def test_model_deployment():\n",
    "    data, true_labels = construct_json_input()\n",
    "    status_code, response = ping_endpoint(data)\n",
    "    print(\"Status code\", status_code)\n",
    "    predicted_labels = json.loads(response)[\"predictions\"]\n",
    "    print(\"Model accuracy\", accuracy_score(true_labels, predicted_labels))\n",
    "    \n",
    "test_model_deployment()"
   ]
  },
  {
   "cell_type": "markdown",
   "metadata": {},
   "source": [
    "## Part F: Follow-up questions\n",
    "Now that you have completed the coding portions, answer the following questions. Write your answers as if you are composing a technical report for your supervisor; limit your responses to **one or two paragraphs** (5-10 sentences per paragraph) in each question.\n",
    "\n",
    "You should write your answers in markdown within this notebook, below the **Your response** line for each question below."
   ]
  },
  {
   "cell_type": "markdown",
   "metadata": {},
   "source": [
    "**Question 1 (6pts)**: In Part A (Data Cleaning), did you exclude any rows in the dataset? If you did, what are the exclusion criteria and how many rows were excluded? Did you remove or clean any column? Explain in sufficient details so that someone who reads your description could replicate the code from scratch.\n",
    "\n",
    "**Grading rubric**:\n",
    "\n",
    "| Rubric item \t| Score \t|\n",
    "|-\t|-\t|\n",
    "| Describe all the row-based operations, e.g. whether and how you excluded rows \t| 2pts \t|\n",
    "| Describe all the column-based operations, e.g. whether and how you removed or cleaned columns \t| 2pts \t|\n",
    "| Provide sufficiently detailed descriptions that can be used to reconstruct the code \t| 2pts \t|\n",
    "\n",
    "**Your response**:\n",
    "\n",
    "................"
   ]
  },
  {
   "cell_type": "markdown",
   "metadata": {},
   "source": [
    "**Question 2 (5pts)**: In Part B (Exploratory Data Analysis), which types of visualization did you employ (e.g., scatter plot, boxplot)? Why did you choose these types? Which columns or relationships between columns did you investigate? Summarize your findings.\n",
    "\n",
    "**Note**: Even if you feel tabular explorations are enough or if you use EDA tools, you should still perform at least one visualization analysis, so that you can respond to this question. \n",
    "\n",
    "**Grading rubric**:\n",
    "\n",
    "| Rubric item \t| Score \t|\n",
    "|-\t|-\t|\n",
    "| List all of the graph types used along with their goal (e.g., “I used violinplot to see the distribution of data in column X,” instead of simply “I used violinplot”) \t| 1pt \t|\n",
    "| List all the columns or relationships between columns that were examined. \t| 2pts \t|\n",
    "| Describe the findings from the exploratory data analysis in layman’s terms, so that a reader not familiar with the dataset or your code can still understand them. \t| 2pts \t|\n",
    "\n",
    "**Your response**:\n",
    "\n",
    "................"
   ]
  },
  {
   "cell_type": "markdown",
   "metadata": {},
   "source": [
    "**Question 3 (6pts)**: In Part C (Feature Construction), which feature construction method(s) did you employ? Specify the associated parameters (for example, if you used Sklearn's TfIdf, what are your preprocessor, tokenizer and analyzer?).\n",
    "\n",
    "**Grading rubric**:\n",
    "\n",
    "| Rubric item \t| Score \t|\n",
    "|-\t|-\t|\n",
    "| List all of the feature construction steps, along with the state of the dataset before and after each step. \t| 3pts \t|\n",
    "| In each step, specify the input parameters in sufficient details so that the original code can be reconstructed from your descriptions. \t| 3pts \t|\n",
    "\n",
    "**Your response**:\n",
    "\n",
    "................"
   ]
  },
  {
   "cell_type": "markdown",
   "metadata": {},
   "source": [
    "**Question 4 (5pts)**: In Part D (Model Training and Evaluation), list all the models that you explored. How did you select the best model, or the best combination of models (if you used an ensemble method)? If you used train-test split or cross validation, describe them in detail (e.g., the training portion, the type of cross validation, etc.).\n",
    "\n",
    "**Note**: For model selection procedure, you should report your selection criteria and hyperparameters considered, among other details. Imagine someone has to work off your description and find the exact same model you report as the best. \n",
    "\n",
    "**Grading rubric**:\n",
    "\n",
    "| Rubric item \t| Score \t|\n",
    "|-\t|-\t|\n",
    "| Name at least two explored models.\t| 2pts \t|\n",
    "| Provide sufficiently detailed descriptions of the model selection procedure that can be used to reconstruct the code. \t| 3pts \t|\n",
    "\n",
    "**Your response**:\n",
    "\n",
    "................"
   ]
  },
  {
   "cell_type": "markdown",
   "metadata": {},
   "source": [
    "**Question 5 (3pts):** Did you complete Parts A-E in one pass, as an ordered sequence of steps, or was it necessary to revisit some earlier parts of your solution in order to achieve the desired outcome when working on a later part? If you proceeded sequentially, did you perform any data planning to identify the best steps for each part? If you had to revisit some parts of your solution, which part did you revisit most, and why?\n",
    "\n",
    "**Grading rubric**:\n",
    "\n",
    "| Rubric item \t| Score \t|\n",
    "|-\t|-\t|\n",
    "| Mention whether you went through the parts A-E sequentially.\t| 1pt \t|\n",
    "| Describe your data planning if you proceeded sequentially, OR\t| 2pts \t|\n",
    "| Specify the part that you revisited most recently and the reason for doing so. | 2pts |\n",
    "    \n",
    "**Your response**:\n",
    "\n",
    "................"
   ]
  },
  {
   "cell_type": "markdown",
   "metadata": {},
   "source": [
    "**Question 6 (4pts)**: Did you identify any imbalance in the dataset? If you did, describe it here. Which method did you apply to address this imbalance? Describe the state of the dataset after you applied this method; was the identified imbalance mitigated or completely resolved?\n",
    "\n",
    "**Note**: even if your final model did not address the data imbalance issue, you should still implement a method to address it for evaluation purpose, so that you can respond to this question.\n",
    "\n",
    "**Grading rubric**:\n",
    "\n",
    "| Rubric item \t| Score \t|\n",
    "|-\t|-\t|\n",
    "| Describe the imbalance in the dataset quantitatively.\t| 2pts \t|\n",
    "| Describe the steps used to mitigate the imbalance and the state of the dataset after applying these steps.\t| 2pts \t|\n",
    "\n",
    "\n",
    "**Your response**:\n",
    "\n",
    "................"
   ]
  },
  {
   "cell_type": "markdown",
   "metadata": {},
   "source": [
    "**Question 7 (5pts)**: Name two features that are not present in the given dataset but may help improve the accuracy of your models. For each feature, briefly describe how you would go about collecting data for it (e.g., by scraping a particular website, or using a particular API / database). Also explain why you think having that feature would improve your models.\n",
    "\n",
    "**Note**: Here you can assume that all public websites can be scraped.\n",
    "\n",
    "**Grading rubric**:\n",
    "\n",
    "| Rubric item \t| Score \t|\n",
    "|-\t|-\t|\n",
    "| Name the two proposed features that are not present in the dataset. | 1pt \t|\n",
    "| For each of the two features, name a specific data source (e.g., Amazon listing page) that may contain the data for it. | 2pts \t|\n",
    "| Explain how the proposed features would improve your models. | 2pts |\n",
    "\n",
    "**Your response**:\n",
    "\n",
    "................"
   ]
  },
  {
   "cell_type": "markdown",
   "metadata": {},
   "source": [
    "**Question 8 (2pts)**: Which parts in the entire pipeline took the most development time? If you were to do a similar assignment in the future, how would you reduce the time taken for these parts of the solution?\n",
    "\n",
    "**Grading rubric**:\n",
    "\n",
    "| Rubric item \t| Score \t|\n",
    "|-\t|-\t|\n",
    "| Describe the time-consuming portions of the pipeline and the reasons for them being time-consuming.\t| 1pt \t|\n",
    "| Describe methods to reduce time in the future assignments.\t| 1pt \t|\n",
    "\n",
    "\n",
    "**Your response**:\n",
    "\n",
    "................"
   ]
  },
  {
   "cell_type": "markdown",
   "metadata": {},
   "source": [
    "**Question 9 (4pts)**: Are there differences in the language used in reviews with high ratings and those with low ratings? You can decide your own threshold for high vs. low and compare the review texts between the two groups. For example, did reviews with high ratings tend to contain more positive words, or have greater lengths?\n",
    "\n",
    "**Grading rubric**:\n",
    "\n",
    "| Rubric item \t| Score \t|\n",
    "|-\t|-\t|\n",
    "| Clearly define “low” and ‘high” reviews.\t| 1pt \t|\n",
    "| Clearly characterize one difference between the language used in low and high reviews in layman’s terms.\t| 2pts \t|\n",
    "| Provide some numerical evidence to back up your observation (e.g., count, mean, std). No detailed tables or plots are required. | 1pt | \n",
    "\n",
    "**Your response**:\n",
    "\n",
    "................"
   ]
  }
 ],
 "metadata": {
  "celltoolbar": "Tags",
  "colab": {
   "collapsed_sections": [],
   "name": "FCDA_final_exam.ipynb",
   "provenance": []
  },
  "kernelspec": {
   "display_name": "Python 3.8 - AzureML",
   "language": "python",
   "name": "python38-azureml"
  },
  "language_info": {
   "codemirror_mode": {
    "name": "ipython",
    "version": 3
   },
   "file_extension": ".py",
   "mimetype": "text/x-python",
   "name": "python",
   "nbconvert_exporter": "python",
   "pygments_lexer": "ipython3",
   "version": "3.8.5"
  },
  "toc": {
   "base_numbering": 1,
   "nav_menu": {},
   "number_sections": true,
   "sideBar": true,
   "skip_h1_title": true,
   "title_cell": "Table of Contents",
   "title_sidebar": "Contents",
   "toc_cell": true,
   "toc_position": {},
   "toc_section_display": true,
   "toc_window_display": false
  }
 },
 "nbformat": 4,
 "nbformat_minor": 4
}
